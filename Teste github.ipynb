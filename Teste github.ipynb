{
 "cells": [
  {
   "cell_type": "code",
   "execution_count": 1,
   "id": "7edaf3af",
   "metadata": {},
   "outputs": [
    {
     "name": "stdout",
     "output_type": "stream",
     "text": [
      "testando github\n"
     ]
    }
   ],
   "source": [
    "print(\"testando github\")"
   ]
  },
  {
   "cell_type": "code",
   "execution_count": 2,
   "id": "86dff686",
   "metadata": {},
   "outputs": [
    {
     "name": "stdout",
     "output_type": "stream",
     "text": [
      "testando github234\n"
     ]
    }
   ],
   "source": [
    "print(\"testando github234\")"
   ]
  },
  {
   "cell_type": "code",
   "execution_count": 3,
   "id": "94614a62",
   "metadata": {},
   "outputs": [
    {
     "name": "stdout",
     "output_type": "stream",
     "text": [
      "teste 2\n"
     ]
    }
   ],
   "source": [
    "print(\"teste 2\")"
   ]
  },
  {
   "cell_type": "code",
   "execution_count": null,
   "id": "9513c47e",
   "metadata": {},
   "outputs": [],
   "source": []
  }
 ],
 "metadata": {
  "kernelspec": {
   "display_name": "Python 3",
   "language": "python",
   "name": "python3"
  },
  "language_info": {
   "codemirror_mode": {
    "name": "ipython",
    "version": 3
   },
   "file_extension": ".py",
   "mimetype": "text/x-python",
   "name": "python",
   "nbconvert_exporter": "python",
   "pygments_lexer": "ipython3",
   "version": "3.8.8"
  }
 },
 "nbformat": 4,
 "nbformat_minor": 5
}
