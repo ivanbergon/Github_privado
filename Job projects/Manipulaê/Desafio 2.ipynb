{
 "cells": [
  {
   "cell_type": "code",
   "execution_count": 15,
   "id": "a33bb2ac",
   "metadata": {},
   "outputs": [],
   "source": [
    "import numpy as np\n",
    "import pandas as pd\n",
    "import matplotlib.pyplot as plt\n",
    "import seaborn as sns \n",
    "import re\n",
    "from sklearn.preprocessing import OneHotEncoder\n",
    "from sklearn.feature_extraction.text import TfidfVectorizer\n",
    "from sklearn import preprocessing\n",
    "from sklearn.tree import DecisionTreeRegressor\n",
    "from sklearn.model_selection import train_test_split\n",
    "from sklearn.metrics import mean_absolute_error\n",
    "from sklearn.ensemble import RandomForestRegressor\n",
    "from xgboost import XGBRegressor\n",
    "import nltk\n"
   ]
  },
  {
   "cell_type": "code",
   "execution_count": 2,
   "id": "dc5d418f",
   "metadata": {},
   "outputs": [
    {
     "data": {
      "text/html": [
       "<div>\n",
       "<style scoped>\n",
       "    .dataframe tbody tr th:only-of-type {\n",
       "        vertical-align: middle;\n",
       "    }\n",
       "\n",
       "    .dataframe tbody tr th {\n",
       "        vertical-align: top;\n",
       "    }\n",
       "\n",
       "    .dataframe thead th {\n",
       "        text-align: right;\n",
       "    }\n",
       "</style>\n",
       "<table border=\"1\" class=\"dataframe\">\n",
       "  <thead>\n",
       "    <tr style=\"text-align: right;\">\n",
       "      <th></th>\n",
       "      <th>descricao</th>\n",
       "      <th>criado</th>\n",
       "      <th>qtdInsumos</th>\n",
       "      <th>calculado</th>\n",
       "      <th>correto</th>\n",
       "    </tr>\n",
       "  </thead>\n",
       "  <tbody>\n",
       "    <tr>\n",
       "      <th>0</th>\n",
       "      <td>30 CAP | BUPROPIONA CLORIDRATO  150MG</td>\n",
       "      <td>2020-08-05 23:19:09</td>\n",
       "      <td>1</td>\n",
       "      <td>47.5297</td>\n",
       "      <td>39.9</td>\n",
       "    </tr>\n",
       "    <tr>\n",
       "      <th>1</th>\n",
       "      <td>60 CAP | FINASTERIDA 1:10  1MG</td>\n",
       "      <td>2020-08-05 22:51:09</td>\n",
       "      <td>1</td>\n",
       "      <td>46.9620</td>\n",
       "      <td>43.6</td>\n",
       "    </tr>\n",
       "    <tr>\n",
       "      <th>2</th>\n",
       "      <td>60 CAP | NAC  250MG; SILIMARINA  150MG; SAME  ...</td>\n",
       "      <td>2020-08-05 22:51:09</td>\n",
       "      <td>3</td>\n",
       "      <td>105.1390</td>\n",
       "      <td>111.4</td>\n",
       "    </tr>\n",
       "    <tr>\n",
       "      <th>3</th>\n",
       "      <td>60 CAP | ANASTROZOL 1:10 0.300MG</td>\n",
       "      <td>2020-08-05 22:51:09</td>\n",
       "      <td>1</td>\n",
       "      <td>49.0314</td>\n",
       "      <td>43.6</td>\n",
       "    </tr>\n",
       "    <tr>\n",
       "      <th>4</th>\n",
       "      <td>120 CAP | DUTASTERIDA 0.250MG; TADALAFIL  10MG</td>\n",
       "      <td>2020-08-05 22:49:09</td>\n",
       "      <td>2</td>\n",
       "      <td>161.8272</td>\n",
       "      <td>146.0</td>\n",
       "    </tr>\n",
       "  </tbody>\n",
       "</table>\n",
       "</div>"
      ],
      "text/plain": [
       "                                           descricao               criado  \\\n",
       "0              30 CAP | BUPROPIONA CLORIDRATO  150MG  2020-08-05 23:19:09   \n",
       "1                     60 CAP | FINASTERIDA 1:10  1MG  2020-08-05 22:51:09   \n",
       "2  60 CAP | NAC  250MG; SILIMARINA  150MG; SAME  ...  2020-08-05 22:51:09   \n",
       "3                   60 CAP | ANASTROZOL 1:10 0.300MG  2020-08-05 22:51:09   \n",
       "4     120 CAP | DUTASTERIDA 0.250MG; TADALAFIL  10MG  2020-08-05 22:49:09   \n",
       "\n",
       "   qtdInsumos  calculado  correto  \n",
       "0           1    47.5297     39.9  \n",
       "1           1    46.9620     43.6  \n",
       "2           3   105.1390    111.4  \n",
       "3           1    49.0314     43.6  \n",
       "4           2   161.8272    146.0  "
      ]
     },
     "execution_count": 2,
     "metadata": {},
     "output_type": "execute_result"
    }
   ],
   "source": [
    "df = pd.read_csv(\"https://raw.githubusercontent.com/manipulaeHealth/desafio-machine-learning/main/dados_preco.csv\")\n",
    "df.head()"
   ]
  },
  {
   "cell_type": "code",
   "execution_count": 3,
   "id": "bc3adba2",
   "metadata": {},
   "outputs": [
    {
     "data": {
      "text/plain": [
       "0                   30 CAP | BUPROPIONA CLORIDRATO  150MG\n",
       "1                          60 CAP | FINASTERIDA 1:10  1MG\n",
       "2       60 CAP | NAC  250MG; SILIMARINA  150MG; SAME  ...\n",
       "3                        60 CAP | ANASTROZOL 1:10 0.300MG\n",
       "4          120 CAP | DUTASTERIDA 0.250MG; TADALAFIL  10MG\n",
       "                              ...                        \n",
       "7116    45 CAP | SERTRALINA CLORIDRATO  40MG; SLENDEST...\n",
       "7117                         120 CAP | GREENSELECT  120MG\n",
       "7118    60 CAP | MAGNESIO QUELADO 30%  220MG; SELENIO ...\n",
       "7119    30 CAP | VALERIANA  50MG; PASSIFLORA  500MG; C...\n",
       "7120    60 CAP | ACIDO TRANEXAMICO  200MG; BIOTINA 2.5...\n",
       "Name: descricao, Length: 7121, dtype: object"
      ]
     },
     "execution_count": 3,
     "metadata": {},
     "output_type": "execute_result"
    }
   ],
   "source": [
    "df.descricao"
   ]
  },
  {
   "cell_type": "code",
   "execution_count": 4,
   "id": "c707492c",
   "metadata": {},
   "outputs": [
    {
     "data": {
      "text/html": [
       "<div>\n",
       "<style scoped>\n",
       "    .dataframe tbody tr th:only-of-type {\n",
       "        vertical-align: middle;\n",
       "    }\n",
       "\n",
       "    .dataframe tbody tr th {\n",
       "        vertical-align: top;\n",
       "    }\n",
       "\n",
       "    .dataframe thead th {\n",
       "        text-align: right;\n",
       "    }\n",
       "</style>\n",
       "<table border=\"1\" class=\"dataframe\">\n",
       "  <thead>\n",
       "    <tr style=\"text-align: right;\">\n",
       "      <th></th>\n",
       "      <th>qtdInsumos</th>\n",
       "      <th>calculado</th>\n",
       "      <th>correto</th>\n",
       "    </tr>\n",
       "  </thead>\n",
       "  <tbody>\n",
       "    <tr>\n",
       "      <th>count</th>\n",
       "      <td>7121.000000</td>\n",
       "      <td>7121.000000</td>\n",
       "      <td>7121.000000</td>\n",
       "    </tr>\n",
       "    <tr>\n",
       "      <th>mean</th>\n",
       "      <td>3.281842</td>\n",
       "      <td>137.089552</td>\n",
       "      <td>135.891798</td>\n",
       "    </tr>\n",
       "    <tr>\n",
       "      <th>std</th>\n",
       "      <td>3.194301</td>\n",
       "      <td>191.266516</td>\n",
       "      <td>189.806974</td>\n",
       "    </tr>\n",
       "    <tr>\n",
       "      <th>min</th>\n",
       "      <td>1.000000</td>\n",
       "      <td>30.000100</td>\n",
       "      <td>33.000000</td>\n",
       "    </tr>\n",
       "    <tr>\n",
       "      <th>25%</th>\n",
       "      <td>1.000000</td>\n",
       "      <td>49.786100</td>\n",
       "      <td>49.500000</td>\n",
       "    </tr>\n",
       "    <tr>\n",
       "      <th>50%</th>\n",
       "      <td>2.000000</td>\n",
       "      <td>87.350300</td>\n",
       "      <td>83.100000</td>\n",
       "    </tr>\n",
       "    <tr>\n",
       "      <th>75%</th>\n",
       "      <td>4.000000</td>\n",
       "      <td>165.167000</td>\n",
       "      <td>161.200000</td>\n",
       "    </tr>\n",
       "    <tr>\n",
       "      <th>max</th>\n",
       "      <td>26.000000</td>\n",
       "      <td>10364.992500</td>\n",
       "      <td>10356.000000</td>\n",
       "    </tr>\n",
       "  </tbody>\n",
       "</table>\n",
       "</div>"
      ],
      "text/plain": [
       "        qtdInsumos     calculado       correto\n",
       "count  7121.000000   7121.000000   7121.000000\n",
       "mean      3.281842    137.089552    135.891798\n",
       "std       3.194301    191.266516    189.806974\n",
       "min       1.000000     30.000100     33.000000\n",
       "25%       1.000000     49.786100     49.500000\n",
       "50%       2.000000     87.350300     83.100000\n",
       "75%       4.000000    165.167000    161.200000\n",
       "max      26.000000  10364.992500  10356.000000"
      ]
     },
     "execution_count": 4,
     "metadata": {},
     "output_type": "execute_result"
    }
   ],
   "source": [
    "df.describe()"
   ]
  },
  {
   "cell_type": "code",
   "execution_count": 5,
   "id": "b94d720e",
   "metadata": {},
   "outputs": [
    {
     "name": "stdout",
     "output_type": "stream",
     "text": [
      "<class 'pandas.core.frame.DataFrame'>\n",
      "RangeIndex: 7121 entries, 0 to 7120\n",
      "Data columns (total 5 columns):\n",
      " #   Column      Non-Null Count  Dtype  \n",
      "---  ------      --------------  -----  \n",
      " 0   descricao   7121 non-null   object \n",
      " 1   criado      7121 non-null   object \n",
      " 2   qtdInsumos  7121 non-null   int64  \n",
      " 3   calculado   7121 non-null   float64\n",
      " 4   correto     7121 non-null   float64\n",
      "dtypes: float64(2), int64(1), object(2)\n",
      "memory usage: 278.3+ KB\n"
     ]
    }
   ],
   "source": [
    "df.info()"
   ]
  },
  {
   "cell_type": "code",
   "execution_count": 6,
   "id": "b2ee0041",
   "metadata": {
    "scrolled": true
   },
   "outputs": [],
   "source": [
    "def getIndexes(dfObj, value):\n",
    "    ''' Get index positions of value in dataframe i.e. dfObj.'''\n",
    "    listOfPos = list()\n",
    "    # Get bool dataframe with True at positions where the given value exists\n",
    "    result = dfObj.isin([value])\n",
    "    # Get list of columns that contains the value\n",
    "    seriesObj = result.any()\n",
    "    columnNames = list(seriesObj[seriesObj == True].index)\n",
    "    # Iterate over list of columns and fetch the rows indexes where value exists\n",
    "    for col in columnNames:\n",
    "        rows = list(result[col][result[col] == True].index)\n",
    "        for row in rows:\n",
    "            listOfPos.append((row, col))\n",
    "    # Return a list of tuples indicating the positions of value in the dataframe\n",
    "    return listOfPos"
   ]
  },
  {
   "cell_type": "code",
   "execution_count": 7,
   "id": "cba7cca0",
   "metadata": {},
   "outputs": [
    {
     "data": {
      "text/html": [
       "<div>\n",
       "<style scoped>\n",
       "    .dataframe tbody tr th:only-of-type {\n",
       "        vertical-align: middle;\n",
       "    }\n",
       "\n",
       "    .dataframe tbody tr th {\n",
       "        vertical-align: top;\n",
       "    }\n",
       "\n",
       "    .dataframe thead th {\n",
       "        text-align: right;\n",
       "    }\n",
       "</style>\n",
       "<table border=\"1\" class=\"dataframe\">\n",
       "  <thead>\n",
       "    <tr style=\"text-align: right;\">\n",
       "      <th></th>\n",
       "      <th>descricao</th>\n",
       "      <th>criado</th>\n",
       "      <th>qtdInsumos</th>\n",
       "      <th>calculado</th>\n",
       "      <th>correto</th>\n",
       "      <th>qtdd_cap</th>\n",
       "    </tr>\n",
       "  </thead>\n",
       "  <tbody>\n",
       "    <tr>\n",
       "      <th>0</th>\n",
       "      <td>30 CAP | BUPROPIONA CLORIDRATO  150MG</td>\n",
       "      <td>2020-08-05 23:19:09</td>\n",
       "      <td>1</td>\n",
       "      <td>47.5297</td>\n",
       "      <td>39.9</td>\n",
       "      <td>30</td>\n",
       "    </tr>\n",
       "    <tr>\n",
       "      <th>1</th>\n",
       "      <td>60 CAP | FINASTERIDA 1:10  1MG</td>\n",
       "      <td>2020-08-05 22:51:09</td>\n",
       "      <td>1</td>\n",
       "      <td>46.9620</td>\n",
       "      <td>43.6</td>\n",
       "      <td>60</td>\n",
       "    </tr>\n",
       "    <tr>\n",
       "      <th>2</th>\n",
       "      <td>60 CAP | NAC  250MG; SILIMARINA  150MG; SAME  ...</td>\n",
       "      <td>2020-08-05 22:51:09</td>\n",
       "      <td>3</td>\n",
       "      <td>105.1390</td>\n",
       "      <td>111.4</td>\n",
       "      <td>60</td>\n",
       "    </tr>\n",
       "    <tr>\n",
       "      <th>3</th>\n",
       "      <td>60 CAP | ANASTROZOL 1:10 0.300MG</td>\n",
       "      <td>2020-08-05 22:51:09</td>\n",
       "      <td>1</td>\n",
       "      <td>49.0314</td>\n",
       "      <td>43.6</td>\n",
       "      <td>60</td>\n",
       "    </tr>\n",
       "    <tr>\n",
       "      <th>4</th>\n",
       "      <td>120 CAP | DUTASTERIDA 0.250MG; TADALAFIL  10MG</td>\n",
       "      <td>2020-08-05 22:49:09</td>\n",
       "      <td>2</td>\n",
       "      <td>161.8272</td>\n",
       "      <td>146.0</td>\n",
       "      <td>120</td>\n",
       "    </tr>\n",
       "  </tbody>\n",
       "</table>\n",
       "</div>"
      ],
      "text/plain": [
       "                                           descricao               criado  \\\n",
       "0              30 CAP | BUPROPIONA CLORIDRATO  150MG  2020-08-05 23:19:09   \n",
       "1                     60 CAP | FINASTERIDA 1:10  1MG  2020-08-05 22:51:09   \n",
       "2  60 CAP | NAC  250MG; SILIMARINA  150MG; SAME  ...  2020-08-05 22:51:09   \n",
       "3                   60 CAP | ANASTROZOL 1:10 0.300MG  2020-08-05 22:51:09   \n",
       "4     120 CAP | DUTASTERIDA 0.250MG; TADALAFIL  10MG  2020-08-05 22:49:09   \n",
       "\n",
       "   qtdInsumos  calculado  correto qtdd_cap  \n",
       "0           1    47.5297     39.9       30  \n",
       "1           1    46.9620     43.6       60  \n",
       "2           3   105.1390    111.4       60  \n",
       "3           1    49.0314     43.6       60  \n",
       "4           2   161.8272    146.0      120  "
      ]
     },
     "execution_count": 7,
     "metadata": {},
     "output_type": "execute_result"
    }
   ],
   "source": [
    "lst = []\n",
    "qtdd_cap = []\n",
    "for descricao in df.descricao:\n",
    "    lst = descricao.split(\" \")\n",
    "    qtdd_cap.append(lst[0])\n",
    "\n",
    "df[\"qtdd_cap\"] = qtdd_cap\n",
    "df.head()"
   ]
  },
  {
   "cell_type": "code",
   "execution_count": 8,
   "id": "d1a94d0c",
   "metadata": {
    "scrolled": true
   },
   "outputs": [
    {
     "name": "stdout",
     "output_type": "stream",
     "text": [
      "                                           descricao               criado  \\\n",
      "0              30 CAP | BUPROPIONA CLORIDRATO  150MG  2020-08-05 23:19:09   \n",
      "1                     60 CAP | FINASTERIDA 1:10  1MG  2020-08-05 22:51:09   \n",
      "2  60 CAP | NAC  250MG; SILIMARINA  150MG; SAME  ...  2020-08-05 22:51:09   \n",
      "3                   60 CAP | ANASTROZOL 1:10 0.300MG  2020-08-05 22:51:09   \n",
      "4     120 CAP | DUTASTERIDA 0.250MG; TADALAFIL  10MG  2020-08-05 22:49:09   \n",
      "\n",
      "   qtdInsumos  calculado  correto qtdd_cap                 desc_mod  \n",
      "0           1    47.5297     39.9       30   bupropiona cloridrato   \n",
      "1           1    46.9620     43.6       60             finasterida   \n",
      "2           3   105.1390    111.4       60     nac silimarina same   \n",
      "3           1    49.0314     43.6       60              anastrozol   \n",
      "4           2   161.8272    146.0      120   dutasterida tadalafil   \n"
     ]
    }
   ],
   "source": [
    "l=[]\n",
    "for s in df['descricao']:\n",
    "    \n",
    "    #Remove punctuations\n",
    "    s=re.sub(r'[^\\w\\s]','',s)\n",
    "    \n",
    "    #Remove Units\n",
    "    s=re.sub(r\"(\\d\\w*)\", \"\", s)\n",
    "    \n",
    "    #Remove Digits\n",
    "    s=re.sub(r\"(\\d)\", \"\", s)\n",
    "    \n",
    "    #Remove content inside paranthesis\n",
    "    s=re.sub(r'\\([^)]*\\)', '', s)\n",
    "    \n",
    "    #Convert to lowercase\n",
    "    s=s.lower()\n",
    "    \n",
    "    #Remove 'cap', 'mg':\n",
    "    s=re.sub(r\"cap\", \"\", s)\n",
    "    \n",
    "    #Remover espaços duplos\n",
    "    s=re.sub(r\"(\\s\\s\\s)\", \" \", s)\n",
    "    s=re.sub(r\"(\\s\\s)\", \" \", s)\n",
    "    s=re.sub(r\"  \", \"5htp\", s)\n",
    "    \n",
    "# 'MG', 'MCG', 'UI', 'MIL', nan, 'SL', 'OL', 'MK', 'LI', 'OH', 'EM',\n",
    "#        'AL', 'TM', 'PI', 'PL', 'MTH', 'BL', 'BI'\n",
    "\n",
    "    l.append(s)\n",
    "df['desc_mod']=l\n",
    "print(df.head())"
   ]
  },
  {
   "cell_type": "code",
   "execution_count": 9,
   "id": "e509dabf",
   "metadata": {
    "scrolled": true
   },
   "outputs": [
    {
     "name": "stdout",
     "output_type": "stream",
     "text": [
      "<class 'pandas.core.frame.DataFrame'>\n",
      "RangeIndex: 7121 entries, 0 to 7120\n",
      "Data columns (total 7 columns):\n",
      " #   Column      Non-Null Count  Dtype  \n",
      "---  ------      --------------  -----  \n",
      " 0   descricao   7121 non-null   object \n",
      " 1   criado      7121 non-null   object \n",
      " 2   qtdInsumos  7121 non-null   int64  \n",
      " 3   calculado   7121 non-null   float64\n",
      " 4   correto     7121 non-null   float64\n",
      " 5   qtdd_cap    7121 non-null   object \n",
      " 6   desc_mod    7121 non-null   object \n",
      "dtypes: float64(2), int64(1), object(4)\n",
      "memory usage: 389.6+ KB\n"
     ]
    }
   ],
   "source": [
    "df.info()"
   ]
  },
  {
   "cell_type": "markdown",
   "id": "5df9f2df",
   "metadata": {},
   "source": [
    "# Método 1 - Usando TF-IDF Vectorizer"
   ]
  },
  {
   "cell_type": "code",
   "execution_count": 10,
   "id": "8028ffd6",
   "metadata": {},
   "outputs": [
    {
     "name": "stdout",
     "output_type": "stream",
     "text": [
      "  (0, 276)\t0.6141180419539541\n",
      "  (0, 181)\t0.789214185469725\n",
      "  (1, 457)\t1.0\n",
      "  (2, 1076)\t0.6625831234428081\n",
      "  (2, 1115)\t0.5089600989467216\n",
      "  (2, 813)\t0.5494936052484285\n",
      "  (3, 56)\t1.0\n",
      "  (4, 1159)\t0.6668390766180434\n",
      "  (4, 381)\t0.7452017484515151\n",
      "  (5, 1035)\t0.5624051226553911\n",
      "  (5, 1132)\t0.5624051226553911\n",
      "  (5, 1232)\t0.6061360870480729\n",
      "  (7, 21)\t0.2510816038897726\n",
      "  (7, 1006)\t0.2510816038897726\n",
      "  (7, 411)\t0.23643743892375102\n",
      "  (7, 1089)\t0.2570727734741817\n",
      "  (7, 426)\t0.259014243210395\n",
      "  (7, 893)\t0.21535220180528536\n",
      "  (7, 1082)\t0.21589687880061117\n",
      "  (7, 316)\t0.15083715150442417\n",
      "  (7, 337)\t0.13417473004201416\n",
      "  (7, 937)\t0.1742636872188274\n",
      "  (7, 725)\t0.13003115060070566\n",
      "  (7, 1093)\t0.15114070315900582\n",
      "  (7, 1012)\t0.3682144803361376\n",
      "  :\t:\n",
      "  (7116, 411)\t0.24868854309855473\n",
      "  (7116, 316)\t0.1586528412062031\n",
      "  (7116, 276)\t0.17211552511768471\n",
      "  (7117, 546)\t1.0\n",
      "  (7118, 1222)\t0.24094972589363967\n",
      "  (7118, 733)\t0.2467410983958757\n",
      "  (7118, 1280)\t0.16949939187231458\n",
      "  (7118, 298)\t0.24454785368194246\n",
      "  (7118, 1018)\t0.2141990646790595\n",
      "  (7118, 550)\t0.2219071561927005\n",
      "  (7118, 767)\t0.1859959923612674\n",
      "  (7118, 283)\t0.19773179465332286\n",
      "  (7118, 316)\t0.17658030634029295\n",
      "  (7118, 725)\t0.1522233758583005\n",
      "  (7118, 1093)\t0.17693566470937858\n",
      "  (7118, 1012)\t0.7184285070377139\n",
      "  (7118, 1295)\t0.1480326193206689\n",
      "  (7119, 1261)\t0.479759712351175\n",
      "  (7119, 197)\t0.624758341367282\n",
      "  (7119, 912)\t0.4593382275556968\n",
      "  (7119, 1089)\t0.28917828563934483\n",
      "  (7119, 426)\t0.2913622232160529\n",
      "  (7120, 1221)\t0.7715990195147789\n",
      "  (7120, 151)\t0.47515865349313935\n",
      "  (7120, 13)\t0.4229174944293727\n"
     ]
    }
   ],
   "source": [
    "vectorizer = TfidfVectorizer()\n",
    "X = vectorizer.fit_transform(df['desc_mod'])\n",
    "print(X)"
   ]
  },
  {
   "cell_type": "code",
   "execution_count": 11,
   "id": "5feb24a0",
   "metadata": {},
   "outputs": [],
   "source": [
    "y = []\n",
    "y = df.correto"
   ]
  },
  {
   "cell_type": "markdown",
   "id": "a70e11d8",
   "metadata": {},
   "source": [
    "### Método 1 - Decision Tree"
   ]
  },
  {
   "cell_type": "code",
   "execution_count": 12,
   "id": "3a24d7db",
   "metadata": {},
   "outputs": [
    {
     "name": "stdout",
     "output_type": "stream",
     "text": [
      "Decision Tree Mean Absolute Error: 66.56345661889138\n"
     ]
    }
   ],
   "source": [
    "train_X, val_X, train_y, val_y = train_test_split(X, y, test_size=0.3, random_state=6)\n",
    "\n",
    "# Define model. Specify a number for random_state to ensure same results each run\n",
    "df_decision_tree_model = DecisionTreeRegressor(random_state=1)\n",
    "\n",
    "# Fit model\n",
    "df_decision_tree_model.fit(train_X, train_y)\n",
    "\n",
    "decision_tree_pred = df_decision_tree_model.predict(val_X)\n",
    "\n",
    "print(\"Decision Tree Mean Absolute Error: \" + str(mean_absolute_error(val_y, decision_tree_pred)))"
   ]
  },
  {
   "cell_type": "markdown",
   "id": "30c330c1",
   "metadata": {},
   "source": [
    "### Método 1 -  Random Forest"
   ]
  },
  {
   "cell_type": "code",
   "execution_count": 13,
   "id": "154c05ad",
   "metadata": {},
   "outputs": [
    {
     "name": "stdout",
     "output_type": "stream",
     "text": [
      "Random Forest Mean Absolute Error: 58.807244507673275\n"
     ]
    }
   ],
   "source": [
    "df_forest_model = RandomForestRegressor(random_state=1)\n",
    "df_forest_model.fit(train_X, train_y)\n",
    "df_forest_pred = df_forest_model.predict(val_X)\n",
    "print(\"Random Forest Mean Absolute Error: \" + str(mean_absolute_error(val_y, df_forest_pred)))"
   ]
  },
  {
   "cell_type": "markdown",
   "id": "2bd4ba86",
   "metadata": {},
   "source": [
    "### Método 1 - XGBoost"
   ]
  },
  {
   "cell_type": "code",
   "execution_count": 14,
   "id": "95252ede",
   "metadata": {},
   "outputs": [
    {
     "name": "stdout",
     "output_type": "stream",
     "text": [
      "XGBoost Mean Absolute Error: 63.21999721507463\n"
     ]
    }
   ],
   "source": [
    "df_XGBoost_model = XGBRegressor(random_state=1, n_estimators=1000, learning_rate=0.05)\n",
    "df_XGBoost_model.fit(train_X, train_y, \n",
    "             early_stopping_rounds=25, \n",
    "             eval_set=[(val_X, val_y)],\n",
    "             verbose=False)\n",
    "\n",
    "XGBoost_predictions = df_XGBoost_model.predict(val_X)\n",
    "print(\"XGBoost Mean Absolute Error: \" + str(mean_absolute_error(val_y, XGBoost_predictions)))"
   ]
  },
  {
   "cell_type": "markdown",
   "id": "b772f447",
   "metadata": {},
   "source": [
    "# Método 2 - Usando One Hot Encoding"
   ]
  },
  {
   "cell_type": "code",
   "execution_count": 61,
   "id": "879a3e1a",
   "metadata": {},
   "outputs": [
    {
     "data": {
      "text/html": [
       "<div>\n",
       "<style scoped>\n",
       "    .dataframe tbody tr th:only-of-type {\n",
       "        vertical-align: middle;\n",
       "    }\n",
       "\n",
       "    .dataframe tbody tr th {\n",
       "        vertical-align: top;\n",
       "    }\n",
       "\n",
       "    .dataframe thead th {\n",
       "        text-align: right;\n",
       "    }\n",
       "</style>\n",
       "<table border=\"1\" class=\"dataframe\">\n",
       "  <thead>\n",
       "    <tr style=\"text-align: right;\">\n",
       "      <th></th>\n",
       "      <th>qtdd_cap</th>\n",
       "      <th>desc_mod</th>\n",
       "      <th>correto</th>\n",
       "    </tr>\n",
       "  </thead>\n",
       "  <tbody>\n",
       "    <tr>\n",
       "      <th>0</th>\n",
       "      <td>30</td>\n",
       "      <td>bupropiona cloridrato</td>\n",
       "      <td>39.9</td>\n",
       "    </tr>\n",
       "    <tr>\n",
       "      <th>1</th>\n",
       "      <td>60</td>\n",
       "      <td>finasterida</td>\n",
       "      <td>43.6</td>\n",
       "    </tr>\n",
       "    <tr>\n",
       "      <th>2</th>\n",
       "      <td>60</td>\n",
       "      <td>nac silimarina same</td>\n",
       "      <td>111.4</td>\n",
       "    </tr>\n",
       "    <tr>\n",
       "      <th>3</th>\n",
       "      <td>60</td>\n",
       "      <td>anastrozol</td>\n",
       "      <td>43.6</td>\n",
       "    </tr>\n",
       "    <tr>\n",
       "      <th>4</th>\n",
       "      <td>120</td>\n",
       "      <td>dutasterida tadalafil</td>\n",
       "      <td>146.0</td>\n",
       "    </tr>\n",
       "  </tbody>\n",
       "</table>\n",
       "</div>"
      ],
      "text/plain": [
       "  qtdd_cap                 desc_mod  correto\n",
       "0       30   bupropiona cloridrato      39.9\n",
       "1       60             finasterida      43.6\n",
       "2       60     nac silimarina same     111.4\n",
       "3       60              anastrozol      43.6\n",
       "4      120   dutasterida tadalafil     146.0"
      ]
     },
     "execution_count": 61,
     "metadata": {},
     "output_type": "execute_result"
    }
   ],
   "source": [
    "df_OH = df[['qtdd_cap', 'desc_mod', 'correto']]\n",
    "df_OH.head()"
   ]
  },
  {
   "cell_type": "code",
   "execution_count": null,
   "id": "047df248",
   "metadata": {},
   "outputs": [],
   "source": []
  }
 ],
 "metadata": {
  "kernelspec": {
   "display_name": "Python 3",
   "language": "python",
   "name": "python3"
  },
  "language_info": {
   "codemirror_mode": {
    "name": "ipython",
    "version": 3
   },
   "file_extension": ".py",
   "mimetype": "text/x-python",
   "name": "python",
   "nbconvert_exporter": "python",
   "pygments_lexer": "ipython3",
   "version": "3.8.8"
  }
 },
 "nbformat": 4,
 "nbformat_minor": 5
}
