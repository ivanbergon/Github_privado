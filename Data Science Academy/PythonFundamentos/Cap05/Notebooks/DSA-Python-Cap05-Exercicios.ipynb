{
 "cells": [
  {
   "cell_type": "markdown",
   "metadata": {},
   "source": [
    "# <font color='blue'>Data Science Academy - Python Fundamentos - Capítulo 5</font>\n",
    "\n",
    "## Download: http://github.com/dsacademybr"
   ]
  },
  {
   "cell_type": "code",
   "execution_count": 1,
   "metadata": {},
   "outputs": [
    {
     "name": "stdout",
     "output_type": "stream",
     "text": [
      "Versão da Linguagem Python Usada Neste Jupyter Notebook: 3.8.8\n"
     ]
    }
   ],
   "source": [
    "# Versão da Linguagem Python\n",
    "from platform import python_version\n",
    "print('Versão da Linguagem Python Usada Neste Jupyter Notebook:', python_version())"
   ]
  },
  {
   "cell_type": "markdown",
   "metadata": {},
   "source": [
    "## Exercícios"
   ]
  },
  {
   "cell_type": "code",
   "execution_count": 8,
   "metadata": {},
   "outputs": [
    {
     "name": "stdout",
     "output_type": "stream",
     "text": [
      "1\n",
      "2\n",
      "3 4\n"
     ]
    }
   ],
   "source": [
    "# Exercício 1 - Crie um objeto a partir da classe abaixo, chamado roc1, passando 2 parâmetros e depois faça uma chamada\n",
    "# aos atributos e métodos\n",
    "from math import sqrt\n",
    "\n",
    "class Rocket():\n",
    "     \n",
    "    def __init__(self, x=0, y=0):\n",
    "        self.x = x\n",
    "        self.y = y\n",
    "        \n",
    "    def move_rocket(self, x_increment=0, y_increment=1):\n",
    "        self.x += x_increment\n",
    "        self.y += y_increment\n",
    "        \n",
    "    def print_rocket(self):\n",
    "        print(self.x, self.y)\n",
    "        \n",
    "roc1 = Rocket(1, 2)\n",
    "print(roc1.x)\n",
    "print(roc1.y)\n",
    "roc1.move_rocket(2, 2)\n",
    "roc1.print_rocket()"
   ]
  },
  {
   "cell_type": "code",
   "execution_count": 40,
   "metadata": {},
   "outputs": [
    {
     "name": "stdout",
     "output_type": "stream",
     "text": [
      " Nome: Ivan, Cidade: Santos, Idade: 30, Telefone: 13981676665, E-mail: ivanbergon@gmail.com\n",
      " Nome: Ivan, Cidade: Santos, Idade: 30, Telefone: 13981676665, E-mail: ivanbergon@gmail.com\n",
      "30\n",
      "Idade:  30\n"
     ]
    }
   ],
   "source": [
    "# Exercício 2 - Crie uma classe chamada Pessoa() com os atributos: nome, cidade, telefone e e-mail. Use pelo menos 2\n",
    "# métodos especiais na sua classe. Crie um objeto da sua classe e faça uma chamada a pelo menos um dos seus métodos\n",
    "# especiais.\n",
    "class Pessoa():\n",
    "    \n",
    "    def __init__(self, nome, cidade, idade, telefone, email):\n",
    "        self.nome = nome\n",
    "        self.cidade = cidade\n",
    "        self.idade = idade\n",
    "        self.telefone = telefone\n",
    "        self.email = email\n",
    "    def __str__(self):\n",
    "        return \" Nome: %s, Cidade: %s, Idade: %s, Telefone: %s, E-mail: %s\" \\\n",
    "    %(self.nome, self.cidade, self.idade, self.telefone, self.email)\n",
    "    def __len__(self):\n",
    "        return self.idade\n",
    "    def len(self):\n",
    "        return print(\"Idade: \", self.idade)\n",
    "\n",
    "hum = Pessoa(\"Ivan\", \"Santos\", 30, 13981676665, \"ivanbergon@gmail.com\")\n",
    "print(hum)\n",
    "print(str(hum))\n",
    "print(len(hum))\n",
    "hum.len()"
   ]
  },
  {
   "cell_type": "code",
   "execution_count": 111,
   "metadata": {},
   "outputs": [
    {
     "name": "stdout",
     "output_type": "stream",
     "text": [
      "Smartphone criado - superclasse\n",
      "Este smartphone tem tamanho  G\n",
      "Este smartphone tem como interface  Chrome\n",
      "---------------------------------------------\n",
      "Smartphone criado - superclasse\n",
      "MP3Player criado - subclasse\n",
      "Este smartphone tem tamanho  P\n",
      "Este smartphone tem como interface  Apple\n",
      "Este MP3 tem capacidade de 20 mb\n"
     ]
    }
   ],
   "source": [
    "# Exercício 3 - Crie a classe Smartphone com 2 atributos, tamanho e interface e crie a classe MP3Player com os \n",
    "# atributos capacidade. A classe MP3player deve herdar os atributos da classe Smartphone.\n",
    "\n",
    "class Smartphone():\n",
    "    def __init__(self, tam, inter):\n",
    "        print(\"Smartphone criado - superclasse\")\n",
    "        self.tam = tam\n",
    "        self.inter = inter\n",
    "    def tamanho(self):\n",
    "        print(\"Este smartphone tem tamanho \", self.tam)\n",
    "    \n",
    "    def interface(self):\n",
    "        print(\"Este smartphone tem como interface \", self.inter)\n",
    "\n",
    "class MP3Player(Smartphone):\n",
    "    def __init__(self, tam, inter, capac):\n",
    "        Smartphone.__init__(self, tam, inter)\n",
    "        self.capac = capac\n",
    "        print(\"MP3Player criado - subclasse\")\n",
    "\n",
    "    def capacidade(self):\n",
    "        print (\"Este MP3 tem capacidade de %s mb\" %(self.capac))\n",
    "\n",
    "cel = Smartphone(\"G\", \"Chrome\")\n",
    "cel.tamanho()\n",
    "cel.interface()\n",
    "\n",
    "print(\"---------------------------------------------\")\n",
    "\n",
    "mp3 = MP3Player(\"P\", \"Apple\", 20)\n",
    "mp3.tamanho()\n",
    "mp3.interface()\n",
    "mp3.capacidade()"
   ]
  },
  {
   "cell_type": "markdown",
   "metadata": {},
   "source": [
    "### FIM"
   ]
  },
  {
   "cell_type": "markdown",
   "metadata": {},
   "source": [
    "### Obrigado\n",
    "\n",
    "### Visite o Blog da Data Science Academy - <a href=\"http://blog.dsacademy.com.br\">Blog DSA</a>"
   ]
  }
 ],
 "metadata": {
  "kernelspec": {
   "display_name": "Python 3",
   "language": "python",
   "name": "python3"
  },
  "language_info": {
   "codemirror_mode": {
    "name": "ipython",
    "version": 3
   },
   "file_extension": ".py",
   "mimetype": "text/x-python",
   "name": "python",
   "nbconvert_exporter": "python",
   "pygments_lexer": "ipython3",
   "version": "3.8.8"
  }
 },
 "nbformat": 4,
 "nbformat_minor": 1
}
